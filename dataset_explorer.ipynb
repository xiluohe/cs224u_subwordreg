{
 "cells": [
  {
   "cell_type": "code",
   "execution_count": 1,
   "id": "c0553af8-e54d-49dc-a4ff-2bad3a7cdbca",
   "metadata": {},
   "outputs": [],
   "source": [
    "import datasets\n",
    "import pandas as pd\n",
    "from train_datasets import BPEDropoutTrainDataset"
   ]
  },
  {
   "cell_type": "code",
   "execution_count": 2,
   "id": "815b4a18-d499-4c3e-b9c6-64172df15fcd",
   "metadata": {},
   "outputs": [],
   "source": [
    "from tqdm import tqdm"
   ]
  },
  {
   "cell_type": "code",
   "execution_count": 3,
   "id": "be650355-3c0f-4c53-8595-d25f8d693f9c",
   "metadata": {},
   "outputs": [],
   "source": [
    "cache_dir = \"./cache\""
   ]
  },
  {
   "cell_type": "code",
   "execution_count": 4,
   "id": "0e07bd5c-e345-49e3-aefb-7a522b1e0e70",
   "metadata": {},
   "outputs": [],
   "source": [
    "dataset_path = \"masakhaner\"\n",
    "language = \"ibo\""
   ]
  },
  {
   "cell_type": "code",
   "execution_count": 5,
   "id": "95cd353f-4560-41bb-95d1-e7bf4784c717",
   "metadata": {},
   "outputs": [],
   "source": [
    "bpe_dropout_p = 0.0\n",
    "model_path = \"Davlan/afro-xlmr-mini\""
   ]
  },
  {
   "cell_type": "code",
   "execution_count": null,
   "id": "68649bee-f6f9-4331-b07d-0fa96f28a777",
   "metadata": {},
   "outputs": [],
   "source": []
  },
  {
   "cell_type": "code",
   "execution_count": 6,
   "id": "30f047a2-5d60-48a4-82d7-491781be0e48",
   "metadata": {},
   "outputs": [
    {
     "name": "stderr",
     "output_type": "stream",
     "text": [
      "Found cached dataset masakhaner (/atlas2/u/xiluo/temp/cache/masakhaner/ibo/1.0.0/e61b24903076a3af7682855beebb820ec64edad0d6787b148c473694592d10b3)\n"
     ]
    },
    {
     "data": {
      "application/vnd.jupyter.widget-view+json": {
       "model_id": "a86825b59acb4c17b4a36d578913dd13",
       "version_major": 2,
       "version_minor": 0
      },
      "text/plain": [
       "  0%|          | 0/3 [00:00<?, ?it/s]"
      ]
     },
     "metadata": {},
     "output_type": "display_data"
    },
    {
     "name": "stderr",
     "output_type": "stream",
     "text": [
      "Found cached dataset masakhaner (/atlas2/u/xiluo/temp/cache/masakhaner/ibo/1.0.0/e61b24903076a3af7682855beebb820ec64edad0d6787b148c473694592d10b3)\n"
     ]
    },
    {
     "data": {
      "application/vnd.jupyter.widget-view+json": {
       "model_id": "6f55e682776049dabe1530412da443d0",
       "version_major": 2,
       "version_minor": 0
      },
      "text/plain": [
       "  0%|          | 0/3 [00:00<?, ?it/s]"
      ]
     },
     "metadata": {},
     "output_type": "display_data"
    }
   ],
   "source": [
    "train_dataset = BPEDropoutTrainDataset(dataset_path, model_path, dataset_language=language, bpe_dropout_p=bpe_dropout_p, cache_dir=cache_dir, train=True)\n",
    "test_dataset = BPEDropoutTrainDataset(dataset_path, model_path, dataset_language=language, bpe_dropout_p=0.0, cache_dir=cache_dir, train=False)\n"
   ]
  },
  {
   "cell_type": "code",
   "execution_count": null,
   "id": "bd63e227-43b9-4204-bbcc-5c9c2d62f5ec",
   "metadata": {},
   "outputs": [
    {
     "name": "stderr",
     "output_type": "stream",
     "text": [
      " 74%|███████████████████████████████████████████████████████████████████████████████████████████████████████▍                                    | 1652/2235 [03:49<01:19,  7.33it/s]"
     ]
    }
   ],
   "source": [
    "for data in tqdm(train_dataset):\n",
    "    inp = data['input_ids']\n",
    "    lab = data['labels']\n",
    "for data in tqdm(test_dataset):\n",
    "    inp = data['input_ids']\n",
    "    lab = data['labels']"
   ]
  },
  {
   "cell_type": "code",
   "execution_count": null,
   "id": "81cbc8dd-f73f-4e96-a82f-0f53b61c5c5b",
   "metadata": {},
   "outputs": [],
   "source": [
    "tags = train_dataset.dset['train'].features[\"ner_tags\"].feature\n",
    "index2tag = {idx: tag for idx, tag in enumerate(tags.names)}\n",
    "tag2index = {tag: idx for idx, tag in enumerate(tags.names)}\n",
    "tags"
   ]
  },
  {
   "cell_type": "code",
   "execution_count": 4,
   "id": "83c3aede-2fde-4bb1-bdf0-4731d0ec43f0",
   "metadata": {},
   "outputs": [
    {
     "ename": "NameError",
     "evalue": "name 'train_dataset' is not defined",
     "output_type": "error",
     "traceback": [
      "\u001b[0;31m---------------------------------------------------------------------------\u001b[0m",
      "\u001b[0;31mNameError\u001b[0m                                 Traceback (most recent call last)",
      "Cell \u001b[0;32mIn[4], line 1\u001b[0m\n\u001b[0;32m----> 1\u001b[0m tokenizer \u001b[38;5;241m=\u001b[39m \u001b[43mtrain_dataset\u001b[49m\u001b[38;5;241m.\u001b[39mtokenizer\n",
      "\u001b[0;31mNameError\u001b[0m: name 'train_dataset' is not defined"
     ]
    }
   ],
   "source": [
    "tokenizer = train_dataset.tokenizer"
   ]
  },
  {
   "cell_type": "code",
   "execution_count": 15,
   "id": "d55b3288-3bef-4c13-b49b-72932019cc1c",
   "metadata": {},
   "outputs": [
    {
     "data": {
      "text/html": [
       "<div>\n",
       "<style scoped>\n",
       "    .dataframe tbody tr th:only-of-type {\n",
       "        vertical-align: middle;\n",
       "    }\n",
       "\n",
       "    .dataframe tbody tr th {\n",
       "        vertical-align: top;\n",
       "    }\n",
       "\n",
       "    .dataframe thead th {\n",
       "        text-align: right;\n",
       "    }\n",
       "</style>\n",
       "<table border=\"1\" class=\"dataframe\">\n",
       "  <thead>\n",
       "    <tr style=\"text-align: right;\">\n",
       "      <th></th>\n",
       "      <th>0</th>\n",
       "      <th>1</th>\n",
       "      <th>2</th>\n",
       "      <th>3</th>\n",
       "      <th>4</th>\n",
       "      <th>5</th>\n",
       "      <th>6</th>\n",
       "      <th>7</th>\n",
       "      <th>8</th>\n",
       "      <th>9</th>\n",
       "      <th>...</th>\n",
       "      <th>73</th>\n",
       "      <th>74</th>\n",
       "      <th>75</th>\n",
       "      <th>76</th>\n",
       "      <th>77</th>\n",
       "      <th>78</th>\n",
       "      <th>79</th>\n",
       "      <th>80</th>\n",
       "      <th>81</th>\n",
       "      <th>82</th>\n",
       "    </tr>\n",
       "  </thead>\n",
       "  <tbody>\n",
       "    <tr>\n",
       "      <th>tokens</th>\n",
       "      <td>&lt;s&gt;</td>\n",
       "      <td>▁Bà</td>\n",
       "      <td>bá</td>\n",
       "      <td>▁tó</td>\n",
       "      <td>▁bí</td>\n",
       "      <td>▁Bà</td>\n",
       "      <td>bá</td>\n",
       "      <td>▁G</td>\n",
       "      <td>à</td>\n",
       "      <td>ní</td>\n",
       "      <td>...</td>\n",
       "      <td>▁Yo</td>\n",
       "      <td>r</td>\n",
       "      <td>ù</td>\n",
       "      <td>bá</td>\n",
       "      <td>▁m</td>\n",
       "      <td>ọ</td>\n",
       "      <td>́</td>\n",
       "      <td>▁</td>\n",
       "      <td>.</td>\n",
       "      <td>&lt;/s&gt;</td>\n",
       "    </tr>\n",
       "    <tr>\n",
       "      <th>ner_tags</th>\n",
       "      <td>-100</td>\n",
       "      <td>0</td>\n",
       "      <td>-100</td>\n",
       "      <td>0</td>\n",
       "      <td>0</td>\n",
       "      <td>0</td>\n",
       "      <td>-100</td>\n",
       "      <td>1</td>\n",
       "      <td>-100</td>\n",
       "      <td>-100</td>\n",
       "      <td>...</td>\n",
       "      <td>0</td>\n",
       "      <td>-100</td>\n",
       "      <td>-100</td>\n",
       "      <td>-100</td>\n",
       "      <td>0</td>\n",
       "      <td>-100</td>\n",
       "      <td>-100</td>\n",
       "      <td>0</td>\n",
       "      <td>-100</td>\n",
       "      <td>-100</td>\n",
       "    </tr>\n",
       "  </tbody>\n",
       "</table>\n",
       "<p>2 rows × 83 columns</p>\n",
       "</div>"
      ],
      "text/plain": [
       "            0    1     2    3    4    5     6   7     8     9   ...   73  \\\n",
       "tokens     <s>  ▁Bà    bá  ▁tó  ▁bí  ▁Bà    bá  ▁G     à    ní  ...  ▁Yo   \n",
       "ner_tags  -100    0  -100    0    0    0  -100   1  -100  -100  ...    0   \n",
       "\n",
       "            74    75    76  77    78    79 80    81    82  \n",
       "tokens       r     ù    bá  ▁m     ọ     ́  ▁     .  </s>  \n",
       "ner_tags  -100  -100  -100   0  -100  -100  0  -100  -100  \n",
       "\n",
       "[2 rows x 83 columns]"
      ]
     },
     "execution_count": 15,
     "metadata": {},
     "output_type": "execute_result"
    }
   ],
   "source": [
    "pd.DataFrame(\n",
    "    [tokenizer.convert_ids_to_tokens(train_dataset[0]['input_ids']), train_dataset[0]['labels']],\n",
    "    index=[\"tokens\", \"ner_tags\"])"
   ]
  },
  {
   "cell_type": "code",
   "execution_count": 17,
   "id": "620bc375-be8e-420b-bee0-5d8d16b1ba3d",
   "metadata": {},
   "outputs": [
    {
     "name": "stderr",
     "output_type": "stream",
     "text": [
      "Found cached dataset masakhaner2 (/atlas2/u/xiluo/temp/cache/masakhane___masakhaner2/yor/1.0.0/37ca2f236794aa08d52f7cbcdb2fb6e8df029aecfc0a4f798d04df8c342b9d3c)\n"
     ]
    },
    {
     "data": {
      "application/vnd.jupyter.widget-view+json": {
       "model_id": "e1d4930830fe4d09b5730dc86733530f",
       "version_major": 2,
       "version_minor": 0
      },
      "text/plain": [
       "  0%|          | 0/3 [00:00<?, ?it/s]"
      ]
     },
     "metadata": {},
     "output_type": "display_data"
    }
   ],
   "source": [
    "dset = datasets.load_dataset(dataset_path, language, cache_dir=cache_dir) "
   ]
  },
  {
   "cell_type": "code",
   "execution_count": 34,
   "id": "0a865eee-b213-44b1-a782-5eb13e848073",
   "metadata": {},
   "outputs": [
    {
     "data": {
      "text/plain": [
       "(['Bàbá',\n",
       "  'tó',\n",
       "  'bí',\n",
       "  'Bàbá',\n",
       "  'Gàní',\n",
       "  'Adams',\n",
       "  'ilẹ̀',\n",
       "  'Yorùbá',\n",
       "  'ni',\n",
       "  'wọ́n',\n",
       "  'ti',\n",
       "  'tọ',\n",
       "  ',',\n",
       "  'bàbá',\n",
       "  'tó',\n",
       "  'bí',\n",
       "  'òun',\n",
       "  'náà',\n",
       "  ',',\n",
       "  'ilẹ̀',\n",
       "  'yìí',\n",
       "  'náà',\n",
       "  'ni',\n",
       "  'wọ́n',\n",
       "  'ti',\n",
       "  'tọ',\n",
       "  ',',\n",
       "  'àwá',\n",
       "  'ní',\n",
       "  'sọ',\n",
       "  'pé',\n",
       "  'kìí',\n",
       "  'ṣe',\n",
       "  'ọmọ',\n",
       "  'Yorùbá',\n",
       "  'mọ́',\n",
       "  '.'],\n",
       " [0,\n",
       "  0,\n",
       "  0,\n",
       "  0,\n",
       "  1,\n",
       "  2,\n",
       "  0,\n",
       "  0,\n",
       "  0,\n",
       "  0,\n",
       "  0,\n",
       "  0,\n",
       "  0,\n",
       "  0,\n",
       "  0,\n",
       "  0,\n",
       "  0,\n",
       "  0,\n",
       "  0,\n",
       "  0,\n",
       "  0,\n",
       "  0,\n",
       "  0,\n",
       "  0,\n",
       "  0,\n",
       "  0,\n",
       "  0,\n",
       "  0,\n",
       "  0,\n",
       "  0,\n",
       "  0,\n",
       "  0,\n",
       "  0,\n",
       "  0,\n",
       "  0,\n",
       "  0,\n",
       "  0])"
      ]
     },
     "execution_count": 34,
     "metadata": {},
     "output_type": "execute_result"
    }
   ],
   "source": [
    "ex = dset['train']['tokens'][0]\n",
    "ex_lab = dset['train']['ner_tags'][0]\n",
    "ex, ex_lab"
   ]
  },
  {
   "cell_type": "code",
   "execution_count": 30,
   "id": "ba7e5e49-c89f-4c90-af98-8e3c54650986",
   "metadata": {},
   "outputs": [
    {
     "data": {
      "text/plain": [
       "{'input_ids': [0, 39914, 29937, 66545, 20346, 39914, 29937, 527, 1298, 797, 111558, 211, 45743, 10565, 6949, 42, 8612, 29937, 300, 148, 19030, 4868, 19, 1053, 808, 19030, 6, 4, 15409, 29937, 66545, 20346, 6, 2516, 309, 3179, 1298, 6, 4, 211, 45743, 10565, 113, 10230, 430, 3179, 1298, 300, 148, 19030, 4868, 19, 1053, 808, 19030, 6, 4, 253, 434, 709, 13258, 6, 7, 19030, 14113, 84416, 430, 6, 37267, 13, 6, 19030, 39, 19030, 6949, 42, 8612, 29937, 347, 19030, 4868, 6, 5, 2], 'attention_mask': [1, 1, 1, 1, 1, 1, 1, 1, 1, 1, 1, 1, 1, 1, 1, 1, 1, 1, 1, 1, 1, 1, 1, 1, 1, 1, 1, 1, 1, 1, 1, 1, 1, 1, 1, 1, 1, 1, 1, 1, 1, 1, 1, 1, 1, 1, 1, 1, 1, 1, 1, 1, 1, 1, 1, 1, 1, 1, 1, 1, 1, 1, 1, 1, 1, 1, 1, 1, 1, 1, 1, 1, 1, 1, 1, 1, 1, 1, 1, 1, 1, 1, 1, 1]}"
      ]
     },
     "execution_count": 30,
     "metadata": {},
     "output_type": "execute_result"
    }
   ],
   "source": [
    "tokenized_ex = tokenizer(ex, truncation=True, max_length=512, is_split_into_words=True)\n",
    "tokenized_ex"
   ]
  },
  {
   "cell_type": "code",
   "execution_count": 32,
   "id": "a4d93c9c-0607-4230-9543-2a1af7bf0794",
   "metadata": {},
   "outputs": [
    {
     "data": {
      "text/plain": [
       "['<s>',\n",
       " '▁Bà',\n",
       " 'bá',\n",
       " '▁tó',\n",
       " '▁bí',\n",
       " '▁Bà',\n",
       " 'bá',\n",
       " '▁G',\n",
       " 'à',\n",
       " 'ní',\n",
       " '▁Adams',\n",
       " '▁il',\n",
       " 'ẹ',\n",
       " '̀',\n",
       " '▁Yo',\n",
       " 'r',\n",
       " 'ù',\n",
       " 'bá',\n",
       " '▁ni',\n",
       " '▁w',\n",
       " 'ọ',\n",
       " '́',\n",
       " 'n',\n",
       " '▁ti',\n",
       " '▁t',\n",
       " 'ọ',\n",
       " '▁',\n",
       " ',',\n",
       " '▁bà',\n",
       " 'bá',\n",
       " '▁tó',\n",
       " '▁bí',\n",
       " '▁',\n",
       " 'ò',\n",
       " 'un',\n",
       " '▁ná',\n",
       " 'à',\n",
       " '▁',\n",
       " ',',\n",
       " '▁il',\n",
       " 'ẹ',\n",
       " '̀',\n",
       " '▁y',\n",
       " 'ì',\n",
       " 'í',\n",
       " '▁ná',\n",
       " 'à',\n",
       " '▁ni',\n",
       " '▁w',\n",
       " 'ọ',\n",
       " '́',\n",
       " 'n',\n",
       " '▁ti',\n",
       " '▁t',\n",
       " 'ọ',\n",
       " '▁',\n",
       " ',',\n",
       " '▁à',\n",
       " 'w',\n",
       " 'á',\n",
       " '▁ní',\n",
       " '▁',\n",
       " 's',\n",
       " 'ọ',\n",
       " '▁pé',\n",
       " '▁kì',\n",
       " 'í',\n",
       " '▁',\n",
       " 'ṣ',\n",
       " 'e',\n",
       " '▁',\n",
       " 'ọ',\n",
       " 'm',\n",
       " 'ọ',\n",
       " '▁Yo',\n",
       " 'r',\n",
       " 'ù',\n",
       " 'bá',\n",
       " '▁m',\n",
       " 'ọ',\n",
       " '́',\n",
       " '▁',\n",
       " '.',\n",
       " '</s>']"
      ]
     },
     "execution_count": 32,
     "metadata": {},
     "output_type": "execute_result"
    }
   ],
   "source": [
    "tokenizer.convert_ids_to_tokens(tokenized_ex['input_ids'])"
   ]
  },
  {
   "cell_type": "code",
   "execution_count": null,
   "id": "010d84ef-e115-47e7-8422-704b6b07e1c4",
   "metadata": {},
   "outputs": [],
   "source": []
  }
 ],
 "metadata": {
  "kernelspec": {
   "display_name": "Python 3 (ipykernel)",
   "language": "python",
   "name": "python3"
  },
  "language_info": {
   "codemirror_mode": {
    "name": "ipython",
    "version": 3
   },
   "file_extension": ".py",
   "mimetype": "text/x-python",
   "name": "python",
   "nbconvert_exporter": "python",
   "pygments_lexer": "ipython3",
   "version": "3.9.16"
  }
 },
 "nbformat": 4,
 "nbformat_minor": 5
}
