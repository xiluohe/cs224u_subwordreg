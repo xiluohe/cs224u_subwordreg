{
 "cells": [
  {
   "cell_type": "code",
   "execution_count": 1,
   "id": "9dc7abbb-6ee6-4d65-a71b-295405fdcd0f",
   "metadata": {},
   "outputs": [],
   "source": [
    "import torch\n",
    "import datasets\n",
    "import transformers\n",
    "import numpy as np\n",
    "from seqeval.metrics import f1_score\n",
    "import pandas as pd\n",
    "import os\n",
    "from torch.utils.data import DataLoader"
   ]
  },
  {
   "cell_type": "code",
   "execution_count": 2,
   "id": "753764fb-48b8-4675-ae98-068038ec540a",
   "metadata": {},
   "outputs": [],
   "source": [
    "from train_datasets import BPEDropoutTrainDataset"
   ]
  },
  {
   "cell_type": "code",
   "execution_count": 3,
   "id": "e434ea83-a3c4-4f1c-a4b6-df67e9731621",
   "metadata": {},
   "outputs": [
    {
     "name": "stdout",
     "output_type": "stream",
     "text": [
      "GPU is enabled.\n",
      "device count: 1, current device: 0\n"
     ]
    }
   ],
   "source": [
    "if torch.cuda.is_available():\n",
    "    print(\"GPU is enabled.\")\n",
    "    print(\"device count: {}, current device: {}\".format(torch.cuda.device_count(), torch.cuda.current_device()))\n",
    "else:\n",
    "    print(\"GPU is not enabled.\")\n",
    "device = torch.device(\"cuda\" if torch.cuda.is_available() else \"cpu\")"
   ]
  },
  {
   "cell_type": "code",
   "execution_count": 4,
   "id": "8d13716f-ed9d-4683-a9d3-aa1c2000525a",
   "metadata": {},
   "outputs": [],
   "source": [
    "cache_dir = \"./cache\""
   ]
  },
  {
   "cell_type": "markdown",
   "id": "18fef682-c0e2-40b8-8289-f309d83784cb",
   "metadata": {},
   "source": [
    "# Load Data"
   ]
  },
  {
   "cell_type": "code",
   "execution_count": 64,
   "id": "8611302b-434f-4f09-97e5-ca95be455681",
   "metadata": {},
   "outputs": [],
   "source": [
    "dataset_path = \"masakhaner\"\n",
    "language = \"luo\"\n",
    "# dataset_path = \"conll2003\"\n",
    "# language = None\n",
    "\n",
    "# subword regularization params:\n",
    "bpe_dropout_p = 0.1\n",
    "# model_path = \"xlm-roberta-base\"\n",
    "model_path = \"Davlan/afro-xlmr-mini\""
   ]
  },
  {
   "cell_type": "code",
   "execution_count": 65,
   "id": "d182a459-5486-403b-bb35-f024345aa02b",
   "metadata": {},
   "outputs": [
    {
     "name": "stderr",
     "output_type": "stream",
     "text": [
      "Found cached dataset masakhaner (/atlas2/u/xiluo/temp/cache/masakhaner/luo/1.0.0/e61b24903076a3af7682855beebb820ec64edad0d6787b148c473694592d10b3)\n"
     ]
    },
    {
     "data": {
      "application/vnd.jupyter.widget-view+json": {
       "model_id": "4d4d1aa3b11b46df88eeb49e571a0f10",
       "version_major": 2,
       "version_minor": 0
      },
      "text/plain": [
       "  0%|          | 0/3 [00:00<?, ?it/s]"
      ]
     },
     "metadata": {},
     "output_type": "display_data"
    },
    {
     "name": "stderr",
     "output_type": "stream",
     "text": [
      "Found cached dataset masakhaner (/atlas2/u/xiluo/temp/cache/masakhaner/luo/1.0.0/e61b24903076a3af7682855beebb820ec64edad0d6787b148c473694592d10b3)\n"
     ]
    },
    {
     "data": {
      "application/vnd.jupyter.widget-view+json": {
       "model_id": "5f86a7fdc8474a51a710a0135cf78c3d",
       "version_major": 2,
       "version_minor": 0
      },
      "text/plain": [
       "  0%|          | 0/3 [00:00<?, ?it/s]"
      ]
     },
     "metadata": {},
     "output_type": "display_data"
    }
   ],
   "source": [
    "train_dataset = BPEDropoutTrainDataset(dataset_path, model_path, dataset_language=language, bpe_dropout_p=bpe_dropout_p, cache_dir=cache_dir, train=True)\n",
    "test_dataset = BPEDropoutTrainDataset(dataset_path, model_path, dataset_language=language, cache_dir=cache_dir, train=False)\n"
   ]
  },
  {
   "cell_type": "code",
   "execution_count": 66,
   "id": "ceb872b0-2886-478d-b634-32ff694544a6",
   "metadata": {},
   "outputs": [
    {
     "data": {
      "text/plain": [
       "ClassLabel(names=['O', 'B-PER', 'I-PER', 'B-ORG', 'I-ORG', 'B-LOC', 'I-LOC', 'B-DATE', 'I-DATE'], id=None)"
      ]
     },
     "execution_count": 66,
     "metadata": {},
     "output_type": "execute_result"
    }
   ],
   "source": [
    "tags = train_dataset.dset['train'].features[\"ner_tags\"].feature\n",
    "index2tag = {idx: tag for idx, tag in enumerate(tags.names)}\n",
    "tag2index = {tag: idx for idx, tag in enumerate(tags.names)}\n",
    "tags"
   ]
  },
  {
   "cell_type": "code",
   "execution_count": 67,
   "id": "716517be-f1a2-4eb5-9cc5-0f63cf6fc0db",
   "metadata": {},
   "outputs": [],
   "source": [
    "tokenizer = train_dataset.tokenizer"
   ]
  },
  {
   "cell_type": "code",
   "execution_count": 68,
   "id": "2e5da135-19ba-431a-b1c5-da709cf3322a",
   "metadata": {},
   "outputs": [
    {
     "data": {
      "text/html": [
       "<div>\n",
       "<style scoped>\n",
       "    .dataframe tbody tr th:only-of-type {\n",
       "        vertical-align: middle;\n",
       "    }\n",
       "\n",
       "    .dataframe tbody tr th {\n",
       "        vertical-align: top;\n",
       "    }\n",
       "\n",
       "    .dataframe thead th {\n",
       "        text-align: right;\n",
       "    }\n",
       "</style>\n",
       "<table border=\"1\" class=\"dataframe\">\n",
       "  <thead>\n",
       "    <tr style=\"text-align: right;\">\n",
       "      <th></th>\n",
       "      <th>0</th>\n",
       "      <th>1</th>\n",
       "      <th>2</th>\n",
       "      <th>3</th>\n",
       "      <th>4</th>\n",
       "      <th>5</th>\n",
       "      <th>6</th>\n",
       "      <th>7</th>\n",
       "      <th>8</th>\n",
       "      <th>9</th>\n",
       "      <th>...</th>\n",
       "      <th>69</th>\n",
       "      <th>70</th>\n",
       "      <th>71</th>\n",
       "      <th>72</th>\n",
       "      <th>73</th>\n",
       "      <th>74</th>\n",
       "      <th>75</th>\n",
       "      <th>76</th>\n",
       "      <th>77</th>\n",
       "      <th>78</th>\n",
       "    </tr>\n",
       "  </thead>\n",
       "  <tbody>\n",
       "    <tr>\n",
       "      <th>tokens</th>\n",
       "      <td>&lt;s&gt;</td>\n",
       "      <td>▁Ji</td>\n",
       "      <td>i</td>\n",
       "      <td>▁2</td>\n",
       "      <td>▁mo</td>\n",
       "      <td>ko</td>\n",
       "      <td>▁jo</td>\n",
       "      <td>wi</td>\n",
       "      <td>to</td>\n",
       "      <td>▁ng</td>\n",
       "      <td>...</td>\n",
       "      <td>▁ew</td>\n",
       "      <td>ii</td>\n",
       "      <td>▁od</td>\n",
       "      <td>hi</td>\n",
       "      <td>ambo</td>\n",
       "      <td>▁maka</td>\n",
       "      <td>wu</td>\n",
       "      <td>on</td>\n",
       "      <td>oni</td>\n",
       "      <td>&lt;/s&gt;</td>\n",
       "    </tr>\n",
       "    <tr>\n",
       "      <th>ner_tags</th>\n",
       "      <td>-100</td>\n",
       "      <td>0</td>\n",
       "      <td>-100</td>\n",
       "      <td>0</td>\n",
       "      <td>0</td>\n",
       "      <td>-100</td>\n",
       "      <td>0</td>\n",
       "      <td>-100</td>\n",
       "      <td>-100</td>\n",
       "      <td>0</td>\n",
       "      <td>...</td>\n",
       "      <td>-100</td>\n",
       "      <td>7</td>\n",
       "      <td>-100</td>\n",
       "      <td>-100</td>\n",
       "      <td>8</td>\n",
       "      <td>-100</td>\n",
       "      <td>-100</td>\n",
       "      <td>-100</td>\n",
       "      <td>-100</td>\n",
       "      <td>-100</td>\n",
       "    </tr>\n",
       "  </tbody>\n",
       "</table>\n",
       "<p>2 rows × 79 columns</p>\n",
       "</div>"
      ],
      "text/plain": [
       "            0    1     2   3    4     5    6     7     8    9   ...    69  70  \\\n",
       "tokens     <s>  ▁Ji     i  ▁2  ▁mo    ko  ▁jo    wi    to  ▁ng  ...   ▁ew  ii   \n",
       "ner_tags  -100    0  -100   0    0  -100    0  -100  -100    0  ...  -100   7   \n",
       "\n",
       "            71    72    73     74    75    76    77    78  \n",
       "tokens     ▁od    hi  ambo  ▁maka    wu    on   oni  </s>  \n",
       "ner_tags  -100  -100     8   -100  -100  -100  -100  -100  \n",
       "\n",
       "[2 rows x 79 columns]"
      ]
     },
     "execution_count": 68,
     "metadata": {},
     "output_type": "execute_result"
    }
   ],
   "source": [
    "pd.DataFrame(\n",
    "    [tokenizer.convert_ids_to_tokens(train_dataset[0]['input_ids']), train_dataset[0]['labels']],\n",
    "    index=[\"tokens\", \"ner_tags\"])"
   ]
  },
  {
   "cell_type": "markdown",
   "id": "473e4846-1e3b-41b2-88bf-fae266403cea",
   "metadata": {},
   "source": [
    "# Training"
   ]
  },
  {
   "cell_type": "code",
   "execution_count": 69,
   "id": "03e17dcd-3018-4007-8a60-42441fdba362",
   "metadata": {},
   "outputs": [
    {
     "name": "stdout",
     "output_type": "stream",
     "text": [
      "env: TOKENIZERS_PARALLELISM=false\n"
     ]
    }
   ],
   "source": [
    "# Make debugging easier\n",
    "%env TOKENIZERS_PARALLELISM=false"
   ]
  },
  {
   "cell_type": "code",
   "execution_count": 70,
   "id": "ad60b4ec-d886-45d8-afd8-e0bc22cf3cbf",
   "metadata": {},
   "outputs": [],
   "source": [
    "training_args = transformers.TrainingArguments(\n",
    "    output_dir = \"./checkpoints/xlm-roberta-ner-yor-swreg\",\n",
    "    log_level = \"error\",\n",
    "    num_train_epochs = 50,\n",
    "    per_device_train_batch_size = 12,\n",
    "    per_device_eval_batch_size = 12,\n",
    "    evaluation_strategy = \"epoch\",\n",
    "    fp16 = True,\n",
    "    logging_steps = len(train_dataset),\n",
    "    push_to_hub = False,\n",
    ")"
   ]
  },
  {
   "cell_type": "code",
   "execution_count": 71,
   "id": "c62b008d-1236-427f-8ffd-b2a51666f3eb",
   "metadata": {},
   "outputs": [],
   "source": [
    "def metrics_func(eval_arg):\n",
    "    preds = np.argmax(eval_arg.predictions, axis=2)\n",
    "    batch_size, seq_len = preds.shape\n",
    "    y_true, y_pred = [], []\n",
    "    for b in range(batch_size):\n",
    "        true_label, pred_label = [], []\n",
    "        for s in range(seq_len):\n",
    "            if eval_arg.label_ids[b, s] != -100:  # -100 must be ignored\n",
    "                true_label.append(index2tag[eval_arg.label_ids[b][s]])\n",
    "                pred_label.append(index2tag[preds[b][s]])\n",
    "        y_true.append(true_label)\n",
    "        y_pred.append(pred_label)\n",
    "    return {\"f1\": f1_score(y_true, y_pred)}"
   ]
  },
  {
   "cell_type": "code",
   "execution_count": 72,
   "id": "64d2a233-e4a4-494e-b70b-6e497f6b53f5",
   "metadata": {},
   "outputs": [],
   "source": [
    "data_collator = transformers.DataCollatorForTokenClassification(\n",
    "    tokenizer,\n",
    "    return_tensors=\"pt\")"
   ]
  },
  {
   "cell_type": "code",
   "execution_count": 73,
   "id": "c627e8ed-a118-4d02-a70f-ffcbf1757c4f",
   "metadata": {},
   "outputs": [],
   "source": [
    "xlmr_config = transformers.AutoConfig.from_pretrained(\n",
    "    model_path,\n",
    "    num_labels=tags.num_classes,\n",
    "    id2label=index2tag,\n",
    "    label2id=tag2index\n",
    ")"
   ]
  },
  {
   "cell_type": "code",
   "execution_count": 74,
   "id": "211a250a-0e6d-4fa2-8578-b309054ae281",
   "metadata": {},
   "outputs": [],
   "source": [
    "model = (transformers.RobertaForTokenClassification\n",
    "         .from_pretrained(model_path, config=xlmr_config, cache_dir=cache_dir)\n",
    "         .to(device))"
   ]
  },
  {
   "cell_type": "code",
   "execution_count": 75,
   "id": "9ea26827-5c6b-4f18-999a-c2f8f689d448",
   "metadata": {},
   "outputs": [],
   "source": [
    "trainer = transformers.Trainer(\n",
    "    model = model,\n",
    "    args = training_args,\n",
    "    data_collator = data_collator,\n",
    "    compute_metrics = metrics_func,\n",
    "    train_dataset = train_dataset,\n",
    "    eval_dataset = test_dataset\n",
    ")"
   ]
  },
  {
   "cell_type": "code",
   "execution_count": 76,
   "id": "8cbd3ec0-bcab-40e7-a20d-fe8a36020e7b",
   "metadata": {},
   "outputs": [
    {
     "name": "stderr",
     "output_type": "stream",
     "text": [
      "/deep/u/xiluo/anaconda3/envs/swreg/lib/python3.9/site-packages/transformers/optimization.py:306: FutureWarning: This implementation of AdamW is deprecated and will be removed in a future version. Use the PyTorch implementation torch.optim.AdamW instead, or set `no_deprecation_warning=True` to disable this warning\n",
      "  warnings.warn(\n"
     ]
    },
    {
     "name": "stdout",
     "output_type": "stream",
     "text": [
      "{'eval_loss': 1.3795737028121948, 'eval_f1': 0.0, 'eval_runtime': 1.7725, 'eval_samples_per_second': 104.937, 'eval_steps_per_second': 9.027, 'epoch': 1.0}\n",
      "{'eval_loss': 1.2250159978866577, 'eval_f1': 0.0, 'eval_runtime': 1.8005, 'eval_samples_per_second': 103.302, 'eval_steps_per_second': 8.886, 'epoch': 2.0}\n",
      "{'eval_loss': 1.0837069749832153, 'eval_f1': 0.0, 'eval_runtime': 1.8087, 'eval_samples_per_second': 102.834, 'eval_steps_per_second': 8.846, 'epoch': 3.0}\n",
      "{'eval_loss': 0.962010383605957, 'eval_f1': 0.0, 'eval_runtime': 1.8049, 'eval_samples_per_second': 103.056, 'eval_steps_per_second': 8.865, 'epoch': 4.0}\n",
      "{'eval_loss': 0.8082224726676941, 'eval_f1': 0.0, 'eval_runtime': 1.802, 'eval_samples_per_second': 103.218, 'eval_steps_per_second': 8.879, 'epoch': 5.0}\n",
      "{'eval_loss': 0.7160309553146362, 'eval_f1': 0.18813314037626627, 'eval_runtime': 1.7885, 'eval_samples_per_second': 103.998, 'eval_steps_per_second': 8.946, 'epoch': 6.0}\n",
      "{'eval_loss': 0.6617061495780945, 'eval_f1': 0.17118402282453635, 'eval_runtime': 1.8443, 'eval_samples_per_second': 100.849, 'eval_steps_per_second': 8.675, 'epoch': 7.0}\n",
      "{'eval_loss': 0.6074830889701843, 'eval_f1': 0.22077922077922077, 'eval_runtime': 1.7932, 'eval_samples_per_second': 103.727, 'eval_steps_per_second': 8.923, 'epoch': 8.0}\n",
      "{'eval_loss': 0.5519461035728455, 'eval_f1': 0.45892351274787535, 'eval_runtime': 1.8036, 'eval_samples_per_second': 103.127, 'eval_steps_per_second': 8.871, 'epoch': 9.0}\n",
      "{'eval_loss': 0.5175949931144714, 'eval_f1': 0.5143638850889194, 'eval_runtime': 1.8135, 'eval_samples_per_second': 102.564, 'eval_steps_per_second': 8.823, 'epoch': 10.0}\n",
      "{'eval_loss': 0.4793435037136078, 'eval_f1': 0.5581395348837209, 'eval_runtime': 1.809, 'eval_samples_per_second': 102.817, 'eval_steps_per_second': 8.844, 'epoch': 11.0}\n",
      "{'loss': 0.7958, 'learning_rate': 3.807407407407408e-05, 'epoch': 11.93}\n",
      "{'eval_loss': 0.4445036053657532, 'eval_f1': 0.526595744680851, 'eval_runtime': 1.7942, 'eval_samples_per_second': 103.665, 'eval_steps_per_second': 8.917, 'epoch': 12.0}\n",
      "{'eval_loss': 0.4340265691280365, 'eval_f1': 0.6032138442521633, 'eval_runtime': 1.7993, 'eval_samples_per_second': 103.373, 'eval_steps_per_second': 8.892, 'epoch': 13.0}\n",
      "{'eval_loss': 0.4056079089641571, 'eval_f1': 0.6251588310038119, 'eval_runtime': 1.8073, 'eval_samples_per_second': 102.915, 'eval_steps_per_second': 8.853, 'epoch': 14.0}\n",
      "{'eval_loss': 0.3892304301261902, 'eval_f1': 0.6148055207026349, 'eval_runtime': 1.8094, 'eval_samples_per_second': 102.795, 'eval_steps_per_second': 8.843, 'epoch': 15.0}\n",
      "{'eval_loss': 0.3777766525745392, 'eval_f1': 0.6776232616940582, 'eval_runtime': 1.8045, 'eval_samples_per_second': 103.078, 'eval_steps_per_second': 8.867, 'epoch': 16.0}\n",
      "{'eval_loss': 0.3600389361381531, 'eval_f1': 0.6826196473551638, 'eval_runtime': 1.8079, 'eval_samples_per_second': 102.882, 'eval_steps_per_second': 8.85, 'epoch': 17.0}\n",
      "{'eval_loss': 0.3502684533596039, 'eval_f1': 0.6789215686274508, 'eval_runtime': 1.8054, 'eval_samples_per_second': 103.027, 'eval_steps_per_second': 8.863, 'epoch': 18.0}\n",
      "{'eval_loss': 0.34972816705703735, 'eval_f1': 0.6733416770963704, 'eval_runtime': 1.8248, 'eval_samples_per_second': 101.931, 'eval_steps_per_second': 8.768, 'epoch': 19.0}\n",
      "{'eval_loss': 0.33820950984954834, 'eval_f1': 0.68, 'eval_runtime': 1.8172, 'eval_samples_per_second': 102.356, 'eval_steps_per_second': 8.805, 'epoch': 20.0}\n",
      "{'eval_loss': 0.32648858428001404, 'eval_f1': 0.6956521739130435, 'eval_runtime': 1.7936, 'eval_samples_per_second': 103.701, 'eval_steps_per_second': 8.921, 'epoch': 21.0}\n",
      "{'eval_loss': 0.3142167031764984, 'eval_f1': 0.7051442910915934, 'eval_runtime': 1.823, 'eval_samples_per_second': 102.032, 'eval_steps_per_second': 8.777, 'epoch': 22.0}\n",
      "{'eval_loss': 0.3154739737510681, 'eval_f1': 0.7176913425345044, 'eval_runtime': 1.806, 'eval_samples_per_second': 102.991, 'eval_steps_per_second': 8.859, 'epoch': 23.0}\n",
      "{'loss': 0.2501, 'learning_rate': 2.6166666666666668e-05, 'epoch': 23.85}\n",
      "{'eval_loss': 0.312405526638031, 'eval_f1': 0.7070457354758961, 'eval_runtime': 1.8028, 'eval_samples_per_second': 103.171, 'eval_steps_per_second': 8.875, 'epoch': 24.0}\n",
      "{'eval_loss': 0.305828332901001, 'eval_f1': 0.7272727272727273, 'eval_runtime': 1.7986, 'eval_samples_per_second': 103.413, 'eval_steps_per_second': 8.896, 'epoch': 25.0}\n",
      "{'eval_loss': 0.30824044346809387, 'eval_f1': 0.743073047858942, 'eval_runtime': 1.7995, 'eval_samples_per_second': 103.364, 'eval_steps_per_second': 8.892, 'epoch': 26.0}\n",
      "{'eval_loss': 0.2982814311981201, 'eval_f1': 0.7412060301507539, 'eval_runtime': 1.7929, 'eval_samples_per_second': 103.743, 'eval_steps_per_second': 8.924, 'epoch': 27.0}\n",
      "{'eval_loss': 0.2956119775772095, 'eval_f1': 0.7218788627935723, 'eval_runtime': 1.8094, 'eval_samples_per_second': 102.797, 'eval_steps_per_second': 8.843, 'epoch': 28.0}\n",
      "{'eval_loss': 0.29081881046295166, 'eval_f1': 0.7297297297297297, 'eval_runtime': 1.8056, 'eval_samples_per_second': 103.015, 'eval_steps_per_second': 8.862, 'epoch': 29.0}\n",
      "{'eval_loss': 0.2845537066459656, 'eval_f1': 0.739622641509434, 'eval_runtime': 1.7958, 'eval_samples_per_second': 103.575, 'eval_steps_per_second': 8.91, 'epoch': 30.0}\n",
      "{'eval_loss': 0.29432007670402527, 'eval_f1': 0.7286063569682151, 'eval_runtime': 1.7909, 'eval_samples_per_second': 103.859, 'eval_steps_per_second': 8.934, 'epoch': 31.0}\n",
      "{'eval_loss': 0.2854997217655182, 'eval_f1': 0.7279503105590062, 'eval_runtime': 1.8064, 'eval_samples_per_second': 102.966, 'eval_steps_per_second': 8.857, 'epoch': 32.0}\n",
      "{'eval_loss': 0.2860923707485199, 'eval_f1': 0.7301587301587301, 'eval_runtime': 1.7966, 'eval_samples_per_second': 103.531, 'eval_steps_per_second': 8.906, 'epoch': 33.0}\n",
      "{'eval_loss': 0.2830313444137573, 'eval_f1': 0.7187112763320942, 'eval_runtime': 1.7965, 'eval_samples_per_second': 103.535, 'eval_steps_per_second': 8.906, 'epoch': 34.0}\n",
      "{'eval_loss': 0.2830294072628021, 'eval_f1': 0.7091136079900124, 'eval_runtime': 1.8061, 'eval_samples_per_second': 102.985, 'eval_steps_per_second': 8.859, 'epoch': 35.0}\n",
      "{'loss': 0.1381, 'learning_rate': 1.4240740740740741e-05, 'epoch': 35.78}\n",
      "{'eval_loss': 0.2831689715385437, 'eval_f1': 0.7259259259259261, 'eval_runtime': 1.8016, 'eval_samples_per_second': 103.239, 'eval_steps_per_second': 8.881, 'epoch': 36.0}\n",
      "{'eval_loss': 0.2799731492996216, 'eval_f1': 0.7232472324723248, 'eval_runtime': 1.7898, 'eval_samples_per_second': 103.924, 'eval_steps_per_second': 8.94, 'epoch': 37.0}\n",
      "{'eval_loss': 0.2796495854854584, 'eval_f1': 0.7290640394088669, 'eval_runtime': 1.7926, 'eval_samples_per_second': 103.76, 'eval_steps_per_second': 8.926, 'epoch': 38.0}\n",
      "{'eval_loss': 0.2828046381473541, 'eval_f1': 0.742216687422167, 'eval_runtime': 1.7887, 'eval_samples_per_second': 103.985, 'eval_steps_per_second': 8.945, 'epoch': 39.0}\n",
      "{'eval_loss': 0.27752718329429626, 'eval_f1': 0.7308641975308643, 'eval_runtime': 1.7932, 'eval_samples_per_second': 103.727, 'eval_steps_per_second': 8.923, 'epoch': 40.0}\n",
      "{'eval_loss': 0.27568143606185913, 'eval_f1': 0.7306273062730627, 'eval_runtime': 1.8004, 'eval_samples_per_second': 103.309, 'eval_steps_per_second': 8.887, 'epoch': 41.0}\n",
      "{'eval_loss': 0.27487725019454956, 'eval_f1': 0.7339901477832512, 'eval_runtime': 1.7928, 'eval_samples_per_second': 103.75, 'eval_steps_per_second': 8.925, 'epoch': 42.0}\n",
      "{'eval_loss': 0.27020832896232605, 'eval_f1': 0.724179829890644, 'eval_runtime': 1.7928, 'eval_samples_per_second': 103.747, 'eval_steps_per_second': 8.924, 'epoch': 43.0}\n",
      "{'eval_loss': 0.2699982523918152, 'eval_f1': 0.7337423312883437, 'eval_runtime': 1.8138, 'eval_samples_per_second': 102.545, 'eval_steps_per_second': 8.821, 'epoch': 44.0}\n",
      "{'eval_loss': 0.26849251985549927, 'eval_f1': 0.7373612823674476, 'eval_runtime': 1.804, 'eval_samples_per_second': 103.103, 'eval_steps_per_second': 8.869, 'epoch': 45.0}\n",
      "{'eval_loss': 0.26767536997795105, 'eval_f1': 0.7292954264524104, 'eval_runtime': 1.7994, 'eval_samples_per_second': 103.37, 'eval_steps_per_second': 8.892, 'epoch': 46.0}\n",
      "{'eval_loss': 0.2678576409816742, 'eval_f1': 0.7237163814180929, 'eval_runtime': 1.8138, 'eval_samples_per_second': 102.549, 'eval_steps_per_second': 8.821, 'epoch': 47.0}\n",
      "{'loss': 0.0958, 'learning_rate': 2.3148148148148148e-06, 'epoch': 47.7}\n",
      "{'eval_loss': 0.2679279148578644, 'eval_f1': 0.7246022031823744, 'eval_runtime': 1.7887, 'eval_samples_per_second': 103.986, 'eval_steps_per_second': 8.945, 'epoch': 48.0}\n",
      "{'eval_loss': 0.2679760456085205, 'eval_f1': 0.7306273062730627, 'eval_runtime': 1.8189, 'eval_samples_per_second': 102.261, 'eval_steps_per_second': 8.797, 'epoch': 49.0}\n",
      "{'eval_loss': 0.2678808271884918, 'eval_f1': 0.7254901960784313, 'eval_runtime': 1.8181, 'eval_samples_per_second': 102.306, 'eval_steps_per_second': 8.8, 'epoch': 50.0}\n",
      "{'train_runtime': 1268.8854, 'train_samples_per_second': 25.377, 'train_steps_per_second': 2.128, 'train_loss': 0.30914306605303726, 'epoch': 50.0}\n"
     ]
    },
    {
     "data": {
      "text/plain": [
       "TrainOutput(global_step=2700, training_loss=0.30914306605303726, metrics={'train_runtime': 1268.8854, 'train_samples_per_second': 25.377, 'train_steps_per_second': 2.128, 'train_loss': 0.30914306605303726, 'epoch': 50.0})"
      ]
     },
     "execution_count": 76,
     "metadata": {},
     "output_type": "execute_result"
    }
   ],
   "source": [
    "trainer.train()"
   ]
  },
  {
   "cell_type": "code",
   "execution_count": null,
   "id": "31eb52bf-6af9-4ad5-a49c-a1b88b8115e7",
   "metadata": {},
   "outputs": [],
   "source": []
  },
  {
   "cell_type": "code",
   "execution_count": null,
   "id": "0f806e89-860b-4725-a5f8-54fede5a5ac4",
   "metadata": {},
   "outputs": [],
   "source": []
  }
 ],
 "metadata": {
  "kernelspec": {
   "display_name": "Python 3 (ipykernel)",
   "language": "python",
   "name": "python3"
  },
  "language_info": {
   "codemirror_mode": {
    "name": "ipython",
    "version": 3
   },
   "file_extension": ".py",
   "mimetype": "text/x-python",
   "name": "python",
   "nbconvert_exporter": "python",
   "pygments_lexer": "ipython3",
   "version": "3.9.16"
  }
 },
 "nbformat": 4,
 "nbformat_minor": 5
}
