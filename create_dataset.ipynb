{
 "cells": [
  {
   "cell_type": "code",
   "execution_count": 1,
   "id": "a0477927-8dfb-4fe1-b6b0-a82714d998a7",
   "metadata": {},
   "outputs": [],
   "source": [
    "import datasets\n",
    "import transformers\n",
    "import pandas as pd\n",
    "from train_datasets import BPEDropoutTrainDataset"
   ]
  },
  {
   "cell_type": "code",
   "execution_count": 2,
   "id": "3566862f-15c5-4c52-a18d-bbcf86634e0f",
   "metadata": {},
   "outputs": [],
   "source": [
    "from tqdm import tqdm"
   ]
  },
  {
   "cell_type": "code",
   "execution_count": 3,
   "id": "0d08c299-bb68-416d-a90a-5abca84623fe",
   "metadata": {},
   "outputs": [],
   "source": [
    "import numpy as np"
   ]
  },
  {
   "cell_type": "code",
   "execution_count": 4,
   "id": "0a8f80a7-6a9d-4afc-ba5a-24fcc118307d",
   "metadata": {},
   "outputs": [],
   "source": [
    "cache_dir = \"./cache\""
   ]
  },
  {
   "cell_type": "code",
   "execution_count": 18,
   "id": "577476a2-196b-4ecf-8280-27c24cbbd571",
   "metadata": {},
   "outputs": [],
   "source": [
    "dataset_path = \"masakhaner\"\n",
    "language = \"swa\"\n",
    "# dataset_path = \"conll2003\"\n",
    "# language = None\n",
    "\n",
    "# subword regularization params:\n",
    "bpe_dropout_p = 0.05\n",
    "model_path = \"Davlan/afro-xlmr-mini\""
   ]
  },
  {
   "cell_type": "code",
   "execution_count": 19,
   "id": "f7aef8c0-452d-4062-a933-4942c934f652",
   "metadata": {},
   "outputs": [
    {
     "name": "stderr",
     "output_type": "stream",
     "text": [
      "Found cached dataset masakhaner (/atlas2/u/xiluo/temp/cache/masakhaner/swa/1.0.0/e61b24903076a3af7682855beebb820ec64edad0d6787b148c473694592d10b3)\n"
     ]
    },
    {
     "data": {
      "application/vnd.jupyter.widget-view+json": {
       "model_id": "325540b58cd34c7f98f944e8abc976ff",
       "version_major": 2,
       "version_minor": 0
      },
      "text/plain": [
       "  0%|          | 0/3 [00:00<?, ?it/s]"
      ]
     },
     "metadata": {},
     "output_type": "display_data"
    }
   ],
   "source": [
    "train_dataset = BPEDropoutTrainDataset(dataset_path, model_path, dataset_language=language, bpe_dropout_p=bpe_dropout_p, cache_dir=cache_dir, train=True)"
   ]
  },
  {
   "cell_type": "code",
   "execution_count": 20,
   "id": "75522c91-7e75-4364-b95d-b88918512497",
   "metadata": {},
   "outputs": [
    {
     "data": {
      "text/plain": [
       "ClassLabel(names=['O', 'B-PER', 'I-PER', 'B-ORG', 'I-ORG', 'B-LOC', 'I-LOC', 'B-DATE', 'I-DATE'], id=None)"
      ]
     },
     "execution_count": 20,
     "metadata": {},
     "output_type": "execute_result"
    }
   ],
   "source": [
    "tags = train_dataset.dset['train'].features[\"ner_tags\"].feature\n",
    "index2tag = {idx: tag for idx, tag in enumerate(tags.names)}\n",
    "tag2index = {tag: idx for idx, tag in enumerate(tags.names)}\n",
    "tags"
   ]
  },
  {
   "cell_type": "code",
   "execution_count": 21,
   "id": "fa7c10f7-9e48-40b4-b8f1-2c67cc1fe905",
   "metadata": {},
   "outputs": [],
   "source": [
    "tokenizer = train_dataset.tokenizer"
   ]
  },
  {
   "cell_type": "code",
   "execution_count": 22,
   "id": "071d4716-b8fd-4679-ae93-ebb338a65678",
   "metadata": {},
   "outputs": [
    {
     "data": {
      "text/html": [
       "<div>\n",
       "<style scoped>\n",
       "    .dataframe tbody tr th:only-of-type {\n",
       "        vertical-align: middle;\n",
       "    }\n",
       "\n",
       "    .dataframe tbody tr th {\n",
       "        vertical-align: top;\n",
       "    }\n",
       "\n",
       "    .dataframe thead th {\n",
       "        text-align: right;\n",
       "    }\n",
       "</style>\n",
       "<table border=\"1\" class=\"dataframe\">\n",
       "  <thead>\n",
       "    <tr style=\"text-align: right;\">\n",
       "      <th></th>\n",
       "      <th>0</th>\n",
       "      <th>1</th>\n",
       "      <th>2</th>\n",
       "      <th>3</th>\n",
       "      <th>4</th>\n",
       "      <th>5</th>\n",
       "      <th>6</th>\n",
       "      <th>7</th>\n",
       "      <th>8</th>\n",
       "      <th>9</th>\n",
       "      <th>...</th>\n",
       "      <th>502</th>\n",
       "      <th>503</th>\n",
       "      <th>504</th>\n",
       "      <th>505</th>\n",
       "      <th>506</th>\n",
       "      <th>507</th>\n",
       "      <th>508</th>\n",
       "      <th>509</th>\n",
       "      <th>510</th>\n",
       "      <th>511</th>\n",
       "    </tr>\n",
       "  </thead>\n",
       "  <tbody>\n",
       "    <tr>\n",
       "      <th>tokens</th>\n",
       "      <td>&lt;s&gt;</td>\n",
       "      <td>▁Wizara</td>\n",
       "      <td>▁ya</td>\n",
       "      <td>▁afya</td>\n",
       "      <td>▁ya</td>\n",
       "      <td>▁Tanzania</td>\n",
       "      <td>▁i</td>\n",
       "      <td>meri</td>\n",
       "      <td>pot</td>\n",
       "      <td>i</td>\n",
       "      <td>...</td>\n",
       "      <td>&lt;pad&gt;</td>\n",
       "      <td>&lt;pad&gt;</td>\n",
       "      <td>&lt;pad&gt;</td>\n",
       "      <td>&lt;pad&gt;</td>\n",
       "      <td>&lt;pad&gt;</td>\n",
       "      <td>&lt;pad&gt;</td>\n",
       "      <td>&lt;pad&gt;</td>\n",
       "      <td>&lt;pad&gt;</td>\n",
       "      <td>&lt;pad&gt;</td>\n",
       "      <td>&lt;pad&gt;</td>\n",
       "    </tr>\n",
       "    <tr>\n",
       "      <th>ner_tags</th>\n",
       "      <td>-100</td>\n",
       "      <td>3</td>\n",
       "      <td>4</td>\n",
       "      <td>4</td>\n",
       "      <td>4</td>\n",
       "      <td>4</td>\n",
       "      <td>0</td>\n",
       "      <td>-100</td>\n",
       "      <td>-100</td>\n",
       "      <td>-100</td>\n",
       "      <td>...</td>\n",
       "      <td>-100</td>\n",
       "      <td>-100</td>\n",
       "      <td>-100</td>\n",
       "      <td>-100</td>\n",
       "      <td>-100</td>\n",
       "      <td>-100</td>\n",
       "      <td>-100</td>\n",
       "      <td>-100</td>\n",
       "      <td>-100</td>\n",
       "      <td>-100</td>\n",
       "    </tr>\n",
       "  </tbody>\n",
       "</table>\n",
       "<p>2 rows × 512 columns</p>\n",
       "</div>"
      ],
      "text/plain": [
       "           0        1    2      3    4          5   6     7     8     9    \\\n",
       "tokens     <s>  ▁Wizara  ▁ya  ▁afya  ▁ya  ▁Tanzania  ▁i  meri   pot     i   \n",
       "ner_tags  -100        3    4      4    4          4   0  -100  -100  -100   \n",
       "\n",
       "          ...    502    503    504    505    506    507    508    509    510  \\\n",
       "tokens    ...  <pad>  <pad>  <pad>  <pad>  <pad>  <pad>  <pad>  <pad>  <pad>   \n",
       "ner_tags  ...   -100   -100   -100   -100   -100   -100   -100   -100   -100   \n",
       "\n",
       "            511  \n",
       "tokens    <pad>  \n",
       "ner_tags   -100  \n",
       "\n",
       "[2 rows x 512 columns]"
      ]
     },
     "execution_count": 22,
     "metadata": {},
     "output_type": "execute_result"
    }
   ],
   "source": [
    "pd.DataFrame(\n",
    "    [tokenizer.convert_ids_to_tokens(train_dataset[0]['input_ids']), train_dataset[0]['labels']],\n",
    "    index=[\"tokens\", \"ner_tags\"])"
   ]
  },
  {
   "cell_type": "code",
   "execution_count": null,
   "id": "3a9138c4-6b7e-4416-b747-e461ec50e2cd",
   "metadata": {},
   "outputs": [],
   "source": []
  },
  {
   "cell_type": "code",
   "execution_count": null,
   "id": "fbd0ea26-5f4e-4f16-8087-ed4d8c1d1b5a",
   "metadata": {},
   "outputs": [],
   "source": []
  },
  {
   "cell_type": "code",
   "execution_count": null,
   "id": "49770d38-2c18-46e0-a992-8a6b09907475",
   "metadata": {},
   "outputs": [],
   "source": []
  },
  {
   "cell_type": "code",
   "execution_count": 23,
   "id": "8d858b1e-72f3-4ca3-9cb8-0ce384bf6b8d",
   "metadata": {},
   "outputs": [],
   "source": [
    "num_to_samp = 5"
   ]
  },
  {
   "cell_type": "code",
   "execution_count": 24,
   "id": "5d68570b-a75f-4c0e-9a91-1de0a8e4b358",
   "metadata": {},
   "outputs": [
    {
     "name": "stderr",
     "output_type": "stream",
     "text": [
      "  0%|▋                                                                                                                                             | 10/2109 [00:08<30:01,  1.16it/s]\n"
     ]
    }
   ],
   "source": [
    "train_input_ids = np.zeros((len(train_dataset), num_to_samp, 512), dtype=int)\n",
    "train_labels = np.zeros((len(train_dataset), num_to_samp, 512), dtype=int)\n",
    "for idx in tqdm(range(len(train_dataset))):\n",
    "\n",
    "    for i in range(num_to_samp):\n",
    "        data = train_dataset[idx]\n",
    "\n",
    "        train_input_ids[idx][i] = data['input_ids']\n",
    "        train_labels[idx][i] = data['labels']        \n",
    "\n",
    "    if idx == 10:\n",
    "        break"
   ]
  },
  {
   "cell_type": "code",
   "execution_count": 16,
   "id": "56126ff1-c35c-44de-a14a-9cb7978dc06d",
   "metadata": {},
   "outputs": [
    {
     "data": {
      "text/plain": [
       "array([[   0, 3692,   11, ...,    1,    1,    1],\n",
       "       [   0, 3692,   11, ...,    1,    1,    1],\n",
       "       [   0,  341, 2477, ...,    1,    1,    1],\n",
       "       [   0,  341, 2477, ...,    1,    1,    1],\n",
       "       [   0, 3692,  344, ...,    1,    1,    1]])"
      ]
     },
     "execution_count": 16,
     "metadata": {},
     "output_type": "execute_result"
    }
   ],
   "source": [
    "train_input_ids[0]"
   ]
  },
  {
   "cell_type": "code",
   "execution_count": null,
   "id": "3d1c2643-1da3-49aa-9274-2bcd2d15dff4",
   "metadata": {},
   "outputs": [],
   "source": [
    "np.savez(\"./xho_test.npz\", input_ids=train_input_ids, labels=train_labels)"
   ]
  },
  {
   "cell_type": "code",
   "execution_count": null,
   "id": "14d0d8d3-755b-4218-b904-7c5aa4d6bcc5",
   "metadata": {},
   "outputs": [],
   "source": [
    "train = np.load(\"./xho_test.npz\")"
   ]
  }
 ],
 "metadata": {
  "kernelspec": {
   "display_name": "Python 3 (ipykernel)",
   "language": "python",
   "name": "python3"
  },
  "language_info": {
   "codemirror_mode": {
    "name": "ipython",
    "version": 3
   },
   "file_extension": ".py",
   "mimetype": "text/x-python",
   "name": "python",
   "nbconvert_exporter": "python",
   "pygments_lexer": "ipython3",
   "version": "3.9.16"
  }
 },
 "nbformat": 4,
 "nbformat_minor": 5
}
